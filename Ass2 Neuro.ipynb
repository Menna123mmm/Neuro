{
  "metadata": {
    "kernelspec": {
      "name": "python",
      "display_name": "Python (Pyodide)",
      "language": "python"
    },
    "language_info": {
      "codemirror_mode": {
        "name": "python",
        "version": 3
      },
      "file_extension": ".py",
      "mimetype": "text/x-python",
      "name": "python",
      "nbconvert_exporter": "python",
      "pygments_lexer": "ipython3",
      "version": "3.8"
    }
  },
  "nbformat_minor": 5,
  "nbformat": 4,
  "cells": [
    {
      "id": "b3a4ca67-88b4-44d3-8ff5-4cd3052b7d2f",
      "cell_type": "code",
      "source": "import math\n\ninputs = [0.05, 0.10]\ntargets = [0.01, 0.99]\nbias=[.35,.60]\nweights = { 'w1': 0.15, 'w2': 0.20,'w3': 0.25, 'w4': 0.30,'w5': 0.40, 'w6': 0.45,'w7': 0.50, 'w8': 0.55}\n\ndef sigmoid(x):\n    return 1 / (1 + math.exp(-x))\n\nh1 = sigmoid(inputs[0] * weights['w1'] + inputs[1] * weights['w2']+bias[0])\nh2 = sigmoid(inputs[0] * weights['w3'] + inputs[1] * weights['w4']+bias[0])\n\noutput1 = sigmoid(h1 * weights['w5'] + h2 * weights['w6']+bias[1])\noutput2 = sigmoid(h1 * weights['w7'] + h2 * weights['w8']+bias[1])\n\nerror1 = 0.5 * (targets[0] - output1) ** 2\nerror2 = 0.5 * (targets[1] - output2) ** 2 \nerror_total = error1 + error2\n\neta = 0.5\n\nd_output1 = (output1 - targets[0]) *( output1*(1-output1))*(h1)\nd_output2 = (output2 - targets[1]) * ( output2*(1-output2))*(h2)\n\nweights['w5'] -= eta * d_output1 \nweights['w6'] -= eta * d_output1 \nweights['w7'] -= eta * d_output2 \nweights['w8'] -= eta * d_output2 \n\nhidden1_error = d_output1 * weights['w5'] + d_output2 * weights['w7']\nhidden2_error = d_output1 * weights['w6'] + d_output2 * weights['w8']\n\nd_h1 = hidden1_error * ( h1*(1-h1) )\nd_h2 = hidden2_error * ( h2*(1-h2) )\n\nweights['w1'] -= eta * d_h1 * (inputs[0])\nweights['w2'] -= eta * d_h1 * (inputs[1])\nweights['w3'] -= eta * d_h2 * (inputs[0])\nweights['w4'] -= eta * d_h2 * (inputs[1])\n\nprint(\"error total :\", error_total)\nprint(\" w5:\", weights['w5'])\nprint(\" w6:\", weights['w6'])\nprint(\" w7:\", weights['w7'])\nprint(\" w8:\", weights['w8'])\nprint(\" w1:\", weights['w1'])\nprint(\" w2:\", weights['w2'])\nprint(\" w3:\", weights['w3'])\nprint(\" w4:\", weights['w4'])\n\n\n",
      "metadata": {
        "trusted": true
      },
      "outputs": [
        {
          "name": "stdout",
          "output_type": "stream",
          "text": "error total : 0.2983711087600027\n w5: 0.35891647971788465\n w6: 0.40891647971788464\n w7: 0.5113701211079891\n w8: 0.5613701211079891\n w1: 0.14989224460758938\n w2: 0.19978448921517875\n w3: 0.2498746779185407\n w4: 0.2997493558370814\n"
        }
      ],
      "execution_count": 33
    },
    {
      "id": "e1f5499a-89dd-4752-9d47-e62c20a77209",
      "cell_type": "code",
      "source": "",
      "metadata": {
        "trusted": true
      },
      "outputs": [],
      "execution_count": null
    }
  ]
}