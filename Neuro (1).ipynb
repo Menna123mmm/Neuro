{
  "metadata": {
    "kernelspec": {
      "name": "python",
      "display_name": "Python (Pyodide)",
      "language": "python"
    },
    "language_info": {
      "codemirror_mode": {
        "name": "python",
        "version": 3
      },
      "file_extension": ".py",
      "mimetype": "text/x-python",
      "name": "python",
      "nbconvert_exporter": "python",
      "pygments_lexer": "ipython3",
      "version": "3.8"
    }
  },
  "nbformat_minor": 5,
  "nbformat": 4,
  "cells": [
    {
      "id": "24142733-04fe-4892-ade9-9e57a1d0cf17",
      "cell_type": "code",
      "source": "import random\nimport math\n\ndef tanh(x):\n    return (math.exp(x) - math.exp(-x)) / (math.exp(x) + math.exp(-x))\n\ninputs = [0.05, 0.10] \ntargets = [0.01, 0.99]\nweights_input_hidden = [[0.15, 0.25], [0.20, 0.30]]\nweights_hidden_output = [[0.40, 0.50], [0.45, 0.55]]\nbias_hidden = [0.5, 0.5]  \nbias_output = [0.7, 0.7]\n\nh1 = tanh(inputs[0] * weights_input_hidden[0][0] + inputs[1] * weights_input_hidden[1][0] + bias_hidden[0])\nh2 = tanh(inputs[0] * weights_input_hidden[0][1] + inputs[1] * weights_input_hidden[1][1] + bias_hidden[1])\n\no1 = tanh(h1 * weights_hidden_output[0][0] + h2 * weights_hidden_output[1][0] + bias_output[0])\no2 = tanh(h1 * weights_hidden_output[0][1] + h2 * weights_hidden_output[1][1] + bias_output[1])\n\nerror_o1 = 0.5 * (targets[0] - o1) ** 2\nerror_o2 = 0.5 * (targets[1] - o2) ** 2\ntotal_error = error_o1 + error_o2\n\nprint(f\"h1_output: {h1}\")\nprint(f\"h2_output: {h2}\")\nprint(f\"o1_output: {o1}\")\nprint(f\"o2_output: {o2}\")\nprint(f\"Total Error: {total_error}\")",
      "metadata": {
        "trusted": true
      },
      "outputs": [
        {
          "name": "stdout",
          "output_type": "stream",
          "text": "h1_output: 0.48346775986286245\nh2_output: 0.49487804044039985\no1_output: 0.8062018681509242\no2_output: 0.8378505584592043\nTotal Error: 0.32854343370409883\n"
        }
      ],
      "execution_count": 3
    },
    {
      "id": "24650e82-df45-4ae1-9652-fb23da7ed655",
      "cell_type": "code",
      "source": "",
      "metadata": {
        "trusted": true
      },
      "outputs": [],
      "execution_count": null
    }
  ]
}