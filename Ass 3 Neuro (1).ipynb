{
  "metadata": {
    "kernelspec": {
      "name": "python",
      "display_name": "Python (Pyodide)",
      "language": "python"
    },
    "language_info": {
      "codemirror_mode": {
        "name": "python",
        "version": 3
      },
      "file_extension": ".py",
      "mimetype": "text/x-python",
      "name": "python",
      "nbconvert_exporter": "python",
      "pygments_lexer": "ipython3",
      "version": "3.8"
    }
  },
  "nbformat_minor": 5,
  "nbformat": 4,
  "cells": [
    {
      "id": "1c30e342-38af-4fc0-bef7-fa9caef9c0ae",
      "cell_type": "code",
      "source": "import numpy as np\ninput_red = np.array([\n    [0, 0,   0,   0, 0 , 0,   0],\n    [0,156, 155, 156, 158,158,0],\n    [0,153, 154, 157, 159, 159,0],\n    [0,149, 151,155, 158, 159,0],\n    [0,146, 146, 149, 153,158,0],\n    [0,145,143,143,148, 158,0],\n    [0,  0,  0, 0,  0,  0,  0 ]\n])\n\ninput_green = np.array([\n    [0, 0, 0, 0, 0,0,0],\n    [0,167, 166,167, 169, 169,0],\n    [0,164, 165, 168, 170,170,0],\n    [0,160, 162,166, 169, 170,0],\n    [0,156, 156, 159, 163, 168,0],\n    [0,155,153,153, 158, 168,0 ],\n    [0,0,0,0,0,0,0 ]\n])\n\ninput_blue = np.array([\n    [0, 0, 0, 0 ,0,0,0],\n    [0,163, 162, 163, 165,165,0],\n    [0,160, 161, 164, 166,166,0],\n    [0,156, 158, 162,165 , 166,0],\n    [0,155, 155, 158, 162, 167,0],\n    [0,154,152,152 ,157,167,0],\n    [0,0,0,0,0,0,0]\n])\nkernel_red = np.array([\n    [-1, -1, 1],\n    [0, 1, -1],\n    [0, 1, 1]\n])\nkernel_green = np.array([\n    [1, 0, 0],\n    [1, -1, -1],\n    [1, 0, -1]\n])\nkernel_blue = np.array([\n    [0, 1, 1],\n    [0, 1, 0],\n    [1, -1, 1]\n])\nbias = 1\n\ndef apply_convolution(input_channel, kernel):\n    kernel_size = kernel.shape[0]  \n    input_size = input_channel.shape[0]\n\n    if input_size < kernel_size:\n        raise ValueError(\"Input size must be larger than kernel size.\")\n\n    output_size = input_size - kernel_size + 1\n    output = np.zeros((output_size, output_size))\n\n    for i in range(output_size):\n        for j in range(output_size):\n            region = input_channel[i:i+kernel_size, j:j+kernel_size]\n            if region.shape == kernel.shape:  \n                output[i, j] = np.sum(region * kernel)\n    \n    return output\n\noutput_red = apply_convolution(input_red, kernel_red)\noutput_green = apply_convolution(input_green, kernel_green)\noutput_blue = apply_convolution(input_blue, kernel_blue)\nfinal_output = output_red + output_green + output_blue + bias\n\nprint(\"Final Output:\")\nprint(final_output)",
      "metadata": {
        "trusted": true
      },
      "outputs": [
        {
          "name": "stdout",
          "output_type": "stream",
          "text": "Final Output:\n[[-25. 466. 466. 475. 653.]\n [295. 787. 798. 812. 671.]\n [291. 776. 784. 800. 659.]\n [293. 771. 773. 782. 645.]\n [159. 328. 324. 319. 335.]]\n"
        }
      ],
      "execution_count": 7
    },
    {
      "id": "7f82e131-8ab9-4241-bec6-972293e6f304",
      "cell_type": "code",
      "source": "",
      "metadata": {
        "trusted": true
      },
      "outputs": [],
      "execution_count": null
    }
  ]
}